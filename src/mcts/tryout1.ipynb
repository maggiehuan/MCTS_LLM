{
 "cells": [
  {
   "cell_type": "code",
   "execution_count": 3,
   "metadata": {},
   "outputs": [
    {
     "ename": "KeyError",
     "evalue": "'prompt'",
     "output_type": "error",
     "traceback": [
      "\u001b[0;31m---------------------------------------------------------------------------\u001b[0m",
      "\u001b[0;31mKeyError\u001b[0m                                  Traceback (most recent call last)",
      "Cell \u001b[0;32mIn[3], line 64\u001b[0m\n\u001b[1;32m     61\u001b[0m     Q[(s_0, a_best)] \u001b[39m=\u001b[39m \u001b[39m0\u001b[39m\n\u001b[1;32m     62\u001b[0m     N_count[(s_0, a_best)] \u001b[39m=\u001b[39m \u001b[39m0\u001b[39m\n\u001b[0;32m---> 64\u001b[0m N_count[s_0] \u001b[39m+\u001b[39m\u001b[39m=\u001b[39m \u001b[39m1\u001b[39m\n\u001b[1;32m     65\u001b[0m a_star\u001b[39m.\u001b[39mappend(a_best)\n\u001b[1;32m     66\u001b[0m s_0 \u001b[39m=\u001b[39m s_0 \u001b[39m+\u001b[39m a_best\n",
      "\u001b[0;31mKeyError\u001b[0m: 'prompt'"
     ]
    }
   ],
   "source": [
    "import torch\n",
    "import numpy as np\n",
    "\n",
    "N = 10  # Rollouts\n",
    "L = 5   # Depth\n",
    "num_actions = 3  \n",
    "C = 1.0  \n",
    "learning_rate = 0.1  \n",
    "\n",
    "# Dictionaries of Q and N values\n",
    "Q = {}\n",
    "N_count = {}\n",
    "\n",
    "# Define the rollout process\n",
    "def rollout(s, depth):\n",
    "    if depth == 0:\n",
    "        return 0\n",
    "\n",
    "    if s in Q:\n",
    "        a_best = max(range(num_actions), key=lambda a: Q[(s, a)] + C * np.sqrt(np.log(N_count[s]) / N_count[(s, a)]))\n",
    "    else:\n",
    "        a_best = np.random.choice(num_actions)\n",
    "        Q[(s, a_best)] = 0\n",
    "        N_count[(s, a_best)] = 0\n",
    "\n",
    "    N_count[s] += 1\n",
    "    s_new = s + a_best\n",
    "\n",
    "    if s_new == \"answered\":\n",
    "        reward = computed_reward(s_new)  \n",
    "        update_value(s, reward)\n",
    "    else:\n",
    "        reward = rollout(s_new, depth - 1)\n",
    "\n",
    "    # Backpropagation\n",
    "    update_value(s, reward)\n",
    "    return reward\n",
    "\n",
    "\n",
    "def computed_reward(state):\n",
    "\n",
    "    return torch.rand(1)  \n",
    "\n",
    "def update_value(state, reward):\n",
    "    Q[(state, a_best)] = (Q[(state, a_best)] * N_count[(state, a_best)] + reward) / (N_count[(state, a_best)] + 1)\n",
    "    N_count[(state, a_best)] += 1\n",
    "\n",
    "\n",
    "history = [\"prompt\"]\n",
    "a_star = []\n",
    "\n",
    "# Main loop \n",
    "for _ in range(N):\n",
    "    s_0 = \"prompt\"\n",
    "    for n in range(L):\n",
    "        if s_0 in Q:\n",
    "            a_best = max(range(num_actions), key=lambda a: Q[(s_0, a)] + C * np.sqrt(np.log(N_count[s_0]) / N_count[(s_0, a)]))\n",
    "        else:\n",
    "            a_best = np.random.choice(num_actions)\n",
    "            Q[(s_0, a_best)] = 0\n",
    "            N_count[(s_0, a_best)] = 0\n",
    "\n",
    "        N_count[s_0] += 1\n",
    "        a_star.append(a_best)\n",
    "        s_0 = s_0 + a_best\n",
    "        history.append(s_0)\n",
    "\n",
    "print(\"Final a_star:\", a_star)\n",
    "print(\"History:\", history)\n"
   ]
  }
 ],
 "metadata": {
  "kernelspec": {
   "display_name": "minigpt4",
   "language": "python",
   "name": "python3"
  },
  "language_info": {
   "codemirror_mode": {
    "name": "ipython",
    "version": 3
   },
   "file_extension": ".py",
   "mimetype": "text/x-python",
   "name": "python",
   "nbconvert_exporter": "python",
   "pygments_lexer": "ipython3",
   "version": "3.9.16"
  },
  "orig_nbformat": 4
 },
 "nbformat": 4,
 "nbformat_minor": 2
}
